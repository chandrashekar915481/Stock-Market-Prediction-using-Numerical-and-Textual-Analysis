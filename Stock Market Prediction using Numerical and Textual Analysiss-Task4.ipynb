{
 "cells": [
  {
   "cell_type": "markdown",
   "metadata": {
    "colab_type": "text",
    "id": "view-in-github"
   },
   "source": [
    "<a href=\"https://colab.research.google.com/github/AnusmitaSen/AnuCode/blob/master/Copy_of_Task_04_Stock_Market_%26_News_Headline_Prediction_using_Numerical_and_Textual_Analysis.ipynb\" target=\"_parent\"><img src=\"https://colab.research.google.com/assets/colab-badge.svg\" alt=\"Open In Colab\"/></a>"
   ]
  },
  {
   "cell_type": "code",
   "execution_count": 1,
   "metadata": {},
   "outputs": [
    {
     "name": "stdout",
     "output_type": "stream",
     "text": [
      "Requirement already satisfied: pandas-datareader in c:\\users\\cs\\anaconda3\\lib\\site-packages (0.9.0)\n",
      "Requirement already satisfied: requests>=2.19.0 in c:\\users\\cs\\anaconda3\\lib\\site-packages (from pandas-datareader) (2.22.0)\n",
      "Requirement already satisfied: lxml in c:\\users\\cs\\anaconda3\\lib\\site-packages (from pandas-datareader) (4.6.1)\n",
      "Requirement already satisfied: pandas>=0.23 in c:\\users\\cs\\anaconda3\\lib\\site-packages (from pandas-datareader) (1.0.0)\n",
      "Requirement already satisfied: chardet<3.1.0,>=3.0.2 in c:\\users\\cs\\anaconda3\\lib\\site-packages (from requests>=2.19.0->pandas-datareader) (3.0.4)\n",
      "Requirement already satisfied: urllib3!=1.25.0,!=1.25.1,<1.26,>=1.21.1 in c:\\users\\cs\\anaconda3\\lib\\site-packages (from requests>=2.19.0->pandas-datareader) (1.25.8)\n",
      "Requirement already satisfied: idna<2.9,>=2.5 in c:\\users\\cs\\anaconda3\\lib\\site-packages (from requests>=2.19.0->pandas-datareader) (2.8)\n",
      "Requirement already satisfied: certifi>=2017.4.17 in c:\\users\\cs\\anaconda3\\lib\\site-packages (from requests>=2.19.0->pandas-datareader) (2020.6.20)\n",
      "Requirement already satisfied: pytz>=2017.2 in c:\\users\\cs\\anaconda3\\lib\\site-packages (from pandas>=0.23->pandas-datareader) (2019.3)\n",
      "Requirement already satisfied: numpy>=1.13.3 in c:\\users\\cs\\anaconda3\\lib\\site-packages (from pandas>=0.23->pandas-datareader) (1.18.1)\n",
      "Requirement already satisfied: python-dateutil>=2.6.1 in c:\\users\\cs\\anaconda3\\lib\\site-packages (from pandas>=0.23->pandas-datareader) (2.8.1)\n",
      "Requirement already satisfied: six>=1.5 in c:\\users\\cs\\anaconda3\\lib\\site-packages (from python-dateutil>=2.6.1->pandas>=0.23->pandas-datareader) (1.14.0)\n"
     ]
    }
   ],
   "source": [
    "!pip install pandas-datareader"
   ]
  },
  {
   "cell_type": "code",
   "execution_count": 2,
   "metadata": {
    "id": "qkPNdIwhBt8P",
    "outputId": "5330eb99-dcbe-4b54-e151-ddcd5f3b83f7"
   },
   "outputs": [
    {
     "data": {
      "text/html": [
       "<div>\n",
       "<style scoped>\n",
       "    .dataframe tbody tr th:only-of-type {\n",
       "        vertical-align: middle;\n",
       "    }\n",
       "\n",
       "    .dataframe tbody tr th {\n",
       "        vertical-align: top;\n",
       "    }\n",
       "\n",
       "    .dataframe thead th {\n",
       "        text-align: right;\n",
       "    }\n",
       "</style>\n",
       "<table border=\"1\" class=\"dataframe\">\n",
       "  <thead>\n",
       "    <tr style=\"text-align: right;\">\n",
       "      <th></th>\n",
       "      <th>High</th>\n",
       "      <th>Low</th>\n",
       "      <th>Open</th>\n",
       "      <th>Close</th>\n",
       "      <th>Volume</th>\n",
       "      <th>Adj Close</th>\n",
       "    </tr>\n",
       "    <tr>\n",
       "      <th>Date</th>\n",
       "      <th></th>\n",
       "      <th></th>\n",
       "      <th></th>\n",
       "      <th></th>\n",
       "      <th></th>\n",
       "      <th></th>\n",
       "    </tr>\n",
       "  </thead>\n",
       "  <tbody>\n",
       "    <tr>\n",
       "      <th>2020-01-06</th>\n",
       "      <td>74.989998</td>\n",
       "      <td>73.187500</td>\n",
       "      <td>73.447502</td>\n",
       "      <td>74.949997</td>\n",
       "      <td>118387200.0</td>\n",
       "      <td>74.436470</td>\n",
       "    </tr>\n",
       "    <tr>\n",
       "      <th>2020-01-07</th>\n",
       "      <td>75.224998</td>\n",
       "      <td>74.370003</td>\n",
       "      <td>74.959999</td>\n",
       "      <td>74.597504</td>\n",
       "      <td>108872000.0</td>\n",
       "      <td>74.086395</td>\n",
       "    </tr>\n",
       "    <tr>\n",
       "      <th>2020-01-08</th>\n",
       "      <td>76.110001</td>\n",
       "      <td>74.290001</td>\n",
       "      <td>74.290001</td>\n",
       "      <td>75.797501</td>\n",
       "      <td>132079200.0</td>\n",
       "      <td>75.278160</td>\n",
       "    </tr>\n",
       "    <tr>\n",
       "      <th>2020-01-09</th>\n",
       "      <td>77.607498</td>\n",
       "      <td>76.550003</td>\n",
       "      <td>76.809998</td>\n",
       "      <td>77.407501</td>\n",
       "      <td>170108400.0</td>\n",
       "      <td>76.877136</td>\n",
       "    </tr>\n",
       "    <tr>\n",
       "      <th>2020-01-10</th>\n",
       "      <td>78.167503</td>\n",
       "      <td>77.062500</td>\n",
       "      <td>77.650002</td>\n",
       "      <td>77.582497</td>\n",
       "      <td>140644800.0</td>\n",
       "      <td>77.050926</td>\n",
       "    </tr>\n",
       "  </tbody>\n",
       "</table>\n",
       "</div>"
      ],
      "text/plain": [
       "                 High        Low       Open      Close       Volume  Adj Close\n",
       "Date                                                                          \n",
       "2020-01-06  74.989998  73.187500  73.447502  74.949997  118387200.0  74.436470\n",
       "2020-01-07  75.224998  74.370003  74.959999  74.597504  108872000.0  74.086395\n",
       "2020-01-08  76.110001  74.290001  74.290001  75.797501  132079200.0  75.278160\n",
       "2020-01-09  77.607498  76.550003  76.809998  77.407501  170108400.0  76.877136\n",
       "2020-01-10  78.167503  77.062500  77.650002  77.582497  140644800.0  77.050926"
      ]
     },
     "execution_count": 2,
     "metadata": {},
     "output_type": "execute_result"
    }
   ],
   "source": [
    "import numpy as np\n",
    "import pandas as pd\n",
    "import seaborn as sns\n",
    "import matplotlib.pyplot as plt\n",
    "%matplotlib inline\n",
    "\n",
    "import datetime\n",
    "import pandas_datareader.data as web\n",
    "from pandas import Series, DataFrame\n",
    "\n",
    "\n",
    "start = datetime.datetime(2010, 1, 1)\n",
    "end = datetime.datetime(2020, 1, 11)\n",
    "\n",
    "df = web.DataReader(\"AAPL\", 'yahoo', start, end)\n",
    "df.tail()"
   ]
  },
  {
   "cell_type": "markdown",
   "metadata": {
    "id": "IxeIJVraBt8S"
   },
   "source": [
    "## Exploring Rolling Mean and Return Rate of Stocks"
   ]
  },
  {
   "cell_type": "code",
   "execution_count": 3,
   "metadata": {
    "id": "AnwqiL2WBt8T",
    "outputId": "30b57523-b65f-4af6-e85a-3ee21dba78d1"
   },
   "outputs": [
    {
     "data": {
      "text/plain": [
       "Date\n",
       "2009-12-31   NaN\n",
       "2010-01-04   NaN\n",
       "2010-01-05   NaN\n",
       "2010-01-06   NaN\n",
       "2010-01-07   NaN\n",
       "2010-01-08   NaN\n",
       "2010-01-11   NaN\n",
       "2010-01-12   NaN\n",
       "2010-01-13   NaN\n",
       "2010-01-14   NaN\n",
       "2010-01-15   NaN\n",
       "2010-01-19   NaN\n",
       "2010-01-20   NaN\n",
       "2010-01-21   NaN\n",
       "2010-01-22   NaN\n",
       "2010-01-25   NaN\n",
       "2010-01-26   NaN\n",
       "2010-01-27   NaN\n",
       "2010-01-28   NaN\n",
       "2010-01-29   NaN\n",
       "Name: Adj Close, dtype: float64"
      ]
     },
     "execution_count": 3,
     "metadata": {},
     "output_type": "execute_result"
    }
   ],
   "source": [
    "close_px = df['Adj Close']\n",
    "mavg = close_px.rolling(window=100).mean()\n",
    "mavg.head(20)"
   ]
  },
  {
   "cell_type": "code",
   "execution_count": 4,
   "metadata": {
    "id": "qDQDrDs1Bt8W",
    "outputId": "d0d64ce2-5e10-41f7-feaf-d00fa607a9ae"
   },
   "outputs": [
    {
     "data": {
      "image/png": "[encoded data removed]",
      "text/plain": [
       "<Figure size 576x504 with 1 Axes>"
      ]
     },
     "metadata": {},
     "output_type": "display_data"
    }
   ],
   "source": [
    "%matplotlib inline\n",
    "import matplotlib.pyplot as plt\n",
    "from matplotlib import style\n",
    "\n",
    "# Adjusting the size of matplotlib\n",
    "import matplotlib as mpl\n",
    "mpl.rc('figure', figsize=(8, 7))\n",
    "mpl.__version__\n",
    "\n",
    "# Adjusting the style of matplotlib\n",
    "style.use('ggplot')\n",
    "\n",
    "close_px.plot(label='AAPL')\n",
    "mavg.plot(label='mavg')\n",
    "plt.legend()\n",
    "plt.show()"
   ]
  },
  {
   "cell_type": "code",
   "execution_count": 5,
   "metadata": {
    "id": "3ar5zfW0Bt8Z",
    "outputId": "b4d782ef-45ca-4be4-83f4-c2fc5b07d880"
   },
   "outputs": [
    {
     "data": {
      "image/png": "[encoded data removed]",
      "text/plain": [
       "<Figure size 576x504 with 1 Axes>"
      ]
     },
     "metadata": {},
     "output_type": "display_data"
    }
   ],
   "source": [
    "rets = close_px / close_px.shift(1) - 1\n",
    "rets.plot(label='return')\n",
    "plt.show()"
   ]
  },
  {
   "cell_type": "code",
   "execution_count": 6,
   "metadata": {
    "id": "G8zz0qdSBt8c",
    "outputId": "56027593-3c3b-441a-fe79-5b581cf98007"
   },
   "outputs": [
    {
     "data": {
      "text/html": [
       "<div>\n",
       "<style scoped>\n",
       "    .dataframe tbody tr th:only-of-type {\n",
       "        vertical-align: middle;\n",
       "    }\n",
       "\n",
       "    .dataframe tbody tr th {\n",
       "        vertical-align: top;\n",
       "    }\n",
       "\n",
       "    .dataframe thead th {\n",
       "        text-align: right;\n",
       "    }\n",
       "</style>\n",
       "<table border=\"1\" class=\"dataframe\">\n",
       "  <thead>\n",
       "    <tr style=\"text-align: right;\">\n",
       "      <th>Symbols</th>\n",
       "      <th>AAPL</th>\n",
       "      <th>GE</th>\n",
       "      <th>GOOG</th>\n",
       "      <th>IBM</th>\n",
       "      <th>MSFT</th>\n",
       "    </tr>\n",
       "    <tr>\n",
       "      <th>Date</th>\n",
       "      <th></th>\n",
       "      <th></th>\n",
       "      <th></th>\n",
       "      <th></th>\n",
       "      <th></th>\n",
       "    </tr>\n",
       "  </thead>\n",
       "  <tbody>\n",
       "    <tr>\n",
       "      <th>2009-12-31</th>\n",
       "      <td>6.503574</td>\n",
       "      <td>10.493408</td>\n",
       "      <td>308.832428</td>\n",
       "      <td>92.406113</td>\n",
       "      <td>23.801456</td>\n",
       "    </tr>\n",
       "    <tr>\n",
       "      <th>2010-01-04</th>\n",
       "      <td>6.604801</td>\n",
       "      <td>10.715343</td>\n",
       "      <td>312.204773</td>\n",
       "      <td>93.500313</td>\n",
       "      <td>24.168472</td>\n",
       "    </tr>\n",
       "    <tr>\n",
       "      <th>2010-01-05</th>\n",
       "      <td>6.616219</td>\n",
       "      <td>10.770829</td>\n",
       "      <td>310.829926</td>\n",
       "      <td>92.370834</td>\n",
       "      <td>24.176279</td>\n",
       "    </tr>\n",
       "    <tr>\n",
       "      <th>2010-01-06</th>\n",
       "      <td>6.510980</td>\n",
       "      <td>10.715343</td>\n",
       "      <td>302.994293</td>\n",
       "      <td>91.770790</td>\n",
       "      <td>24.027906</td>\n",
       "    </tr>\n",
       "    <tr>\n",
       "      <th>2010-01-07</th>\n",
       "      <td>6.498945</td>\n",
       "      <td>11.270185</td>\n",
       "      <td>295.940735</td>\n",
       "      <td>91.453102</td>\n",
       "      <td>23.778025</td>\n",
       "    </tr>\n",
       "  </tbody>\n",
       "</table>\n",
       "</div>"
      ],
      "text/plain": [
       "Symbols         AAPL         GE        GOOG        IBM       MSFT\n",
       "Date                                                             \n",
       "2009-12-31  6.503574  10.493408  308.832428  92.406113  23.801456\n",
       "2010-01-04  6.604801  10.715343  312.204773  93.500313  24.168472\n",
       "2010-01-05  6.616219  10.770829  310.829926  92.370834  24.176279\n",
       "2010-01-06  6.510980  10.715343  302.994293  91.770790  24.027906\n",
       "2010-01-07  6.498945  11.270185  295.940735  91.453102  23.778025"
      ]
     },
     "execution_count": 6,
     "metadata": {},
     "output_type": "execute_result"
    }
   ],
   "source": [
    "dfcomp = web.DataReader(['AAPL', 'GE', 'GOOG', 'IBM', 'MSFT'],'yahoo',start=start,end=end)['Adj Close']\n",
    "dfcomp.head()"
   ]
  },
  {
   "cell_type": "code",
   "execution_count": 7,
   "metadata": {
    "id": "M-XZIG2OBt8e",
    "outputId": "c0b00b54-ef30-44c9-e170-c4afea2bf4f6"
   },
   "outputs": [
    {
     "data": {
      "text/html": [
       "<div>\n",
       "<style scoped>\n",
       "    .dataframe tbody tr th:only-of-type {\n",
       "        vertical-align: middle;\n",
       "    }\n",
       "\n",
       "    .dataframe tbody tr th {\n",
       "        vertical-align: top;\n",
       "    }\n",
       "\n",
       "    .dataframe thead th {\n",
       "        text-align: right;\n",
       "    }\n",
       "</style>\n",
       "<table border=\"1\" class=\"dataframe\">\n",
       "  <thead>\n",
       "    <tr style=\"text-align: right;\">\n",
       "      <th>Symbols</th>\n",
       "      <th>AAPL</th>\n",
       "      <th>GE</th>\n",
       "      <th>GOOG</th>\n",
       "      <th>IBM</th>\n",
       "      <th>MSFT</th>\n",
       "    </tr>\n",
       "    <tr>\n",
       "      <th>Date</th>\n",
       "      <th></th>\n",
       "      <th></th>\n",
       "      <th></th>\n",
       "      <th></th>\n",
       "      <th></th>\n",
       "    </tr>\n",
       "  </thead>\n",
       "  <tbody>\n",
       "    <tr>\n",
       "      <th>2009-12-31</th>\n",
       "      <td>NaN</td>\n",
       "      <td>NaN</td>\n",
       "      <td>NaN</td>\n",
       "      <td>NaN</td>\n",
       "      <td>NaN</td>\n",
       "    </tr>\n",
       "    <tr>\n",
       "      <th>2010-01-04</th>\n",
       "      <td>0.015565</td>\n",
       "      <td>0.021150</td>\n",
       "      <td>0.010920</td>\n",
       "      <td>0.011841</td>\n",
       "      <td>0.015420</td>\n",
       "    </tr>\n",
       "    <tr>\n",
       "      <th>2010-01-05</th>\n",
       "      <td>0.001729</td>\n",
       "      <td>0.005178</td>\n",
       "      <td>-0.004404</td>\n",
       "      <td>-0.012080</td>\n",
       "      <td>0.000323</td>\n",
       "    </tr>\n",
       "    <tr>\n",
       "      <th>2010-01-06</th>\n",
       "      <td>-0.015906</td>\n",
       "      <td>-0.005152</td>\n",
       "      <td>-0.025209</td>\n",
       "      <td>-0.006496</td>\n",
       "      <td>-0.006137</td>\n",
       "    </tr>\n",
       "    <tr>\n",
       "      <th>2010-01-07</th>\n",
       "      <td>-0.001848</td>\n",
       "      <td>0.051780</td>\n",
       "      <td>-0.023280</td>\n",
       "      <td>-0.003462</td>\n",
       "      <td>-0.010400</td>\n",
       "    </tr>\n",
       "    <tr>\n",
       "      <th>2010-01-08</th>\n",
       "      <td>0.006648</td>\n",
       "      <td>0.021538</td>\n",
       "      <td>0.013331</td>\n",
       "      <td>0.010035</td>\n",
       "      <td>0.006897</td>\n",
       "    </tr>\n",
       "    <tr>\n",
       "      <th>2010-01-11</th>\n",
       "      <td>-0.008821</td>\n",
       "      <td>0.009638</td>\n",
       "      <td>-0.001512</td>\n",
       "      <td>-0.010470</td>\n",
       "      <td>-0.012720</td>\n",
       "    </tr>\n",
       "    <tr>\n",
       "      <th>2010-01-12</th>\n",
       "      <td>-0.011375</td>\n",
       "      <td>0.000597</td>\n",
       "      <td>-0.017684</td>\n",
       "      <td>0.007955</td>\n",
       "      <td>-0.006607</td>\n",
       "    </tr>\n",
       "    <tr>\n",
       "      <th>2010-01-13</th>\n",
       "      <td>0.014105</td>\n",
       "      <td>0.003578</td>\n",
       "      <td>-0.005741</td>\n",
       "      <td>-0.002145</td>\n",
       "      <td>0.009312</td>\n",
       "    </tr>\n",
       "    <tr>\n",
       "      <th>2010-01-14</th>\n",
       "      <td>-0.005792</td>\n",
       "      <td>-0.007724</td>\n",
       "      <td>0.004701</td>\n",
       "      <td>0.015972</td>\n",
       "      <td>0.020099</td>\n",
       "    </tr>\n",
       "  </tbody>\n",
       "</table>\n",
       "</div>"
      ],
      "text/plain": [
       "Symbols         AAPL        GE      GOOG       IBM      MSFT\n",
       "Date                                                        \n",
       "2009-12-31       NaN       NaN       NaN       NaN       NaN\n",
       "2010-01-04  0.015565  0.021150  0.010920  0.011841  0.015420\n",
       "2010-01-05  0.001729  0.005178 -0.004404 -0.012080  0.000323\n",
       "2010-01-06 -0.015906 -0.005152 -0.025209 -0.006496 -0.006137\n",
       "2010-01-07 -0.001848  0.051780 -0.023280 -0.003462 -0.010400\n",
       "2010-01-08  0.006648  0.021538  0.013331  0.010035  0.006897\n",
       "2010-01-11 -0.008821  0.009638 -0.001512 -0.010470 -0.012720\n",
       "2010-01-12 -0.011375  0.000597 -0.017684  0.007955 -0.006607\n",
       "2010-01-13  0.014105  0.003578 -0.005741 -0.002145  0.009312\n",
       "2010-01-14 -0.005792 -0.007724  0.004701  0.015972  0.020099"
      ]
     },
     "execution_count": 7,
     "metadata": {},
     "output_type": "execute_result"
    }
   ],
   "source": [
    "retscomp = dfcomp.pct_change()\n",
    "corr = retscomp.corr()\n",
    "retscomp.head(10)"
   ]
  },
  {
   "cell_type": "code",
   "execution_count": 8,
   "metadata": {
    "id": "hOVZiR1fBt8h",
    "outputId": "070fc5ed-d1a0-4df7-df52-c39c08b7504a"
   },
   "outputs": [
    {
     "data": {
      "image/png": "[encoded data removed]",
      "text/plain": [
       "<Figure size 576x504 with 2 Axes>"
      ]
     },
     "metadata": {},
     "output_type": "display_data"
    }
   ],
   "source": [
    "plt.imshow(corr, cmap='hot', interpolation='none')\n",
    "plt.colorbar()\n",
    "plt.xticks(range(len(corr)), corr.columns)\n",
    "plt.yticks(range(len(corr)), corr.columns);"
   ]
  },
  {
   "cell_type": "code",
   "execution_count": 9,
   "metadata": {
    "id": "_Sl8_xRHBt8k",
    "outputId": "6224c547-cf2f-4af5-ad26-74d441969f23"
   },
   "outputs": [
    {
     "data": {
      "image/png": "[encoded data removed]",
      "text/plain": [
       "<Figure size 576x504 with 1 Axes>"
      ]
     },
     "metadata": {},
     "output_type": "display_data"
    }
   ],
   "source": [
    "plt.scatter(retscomp.mean(), retscomp.std())\n",
    "plt.xlabel('Expected returns')\n",
    "plt.ylabel('Risk')\n",
    "for label, x, y in zip(retscomp.columns, retscomp.mean(), retscomp.std()):\n",
    "    plt.annotate(\n",
    "        label, \n",
    "        xy = (x, y), xytext = (20, -20),\n",
    "        textcoords = 'offset points', ha = 'right', va = 'bottom',\n",
    "        bbox = dict(boxstyle = 'round,pad=0.5', fc = 'yellow', alpha = 0.5),\n",
    "        arrowprops = dict(arrowstyle = '->', connectionstyle = 'arc3,rad=0'))"
   ]
  },
  {
   "cell_type": "code",
   "execution_count": 10,
   "metadata": {
    "id": "6xixUfB-Bt8m",
    "outputId": "e968d78e-e17a-4b1d-d207-f3598fe35140"
   },
   "outputs": [
    {
     "data": {
      "text/html": [
       "<div>\n",
       "<style scoped>\n",
       "    .dataframe tbody tr th:only-of-type {\n",
       "        vertical-align: middle;\n",
       "    }\n",
       "\n",
       "    .dataframe tbody tr th {\n",
       "        vertical-align: top;\n",
       "    }\n",
       "\n",
       "    .dataframe thead th {\n",
       "        text-align: right;\n",
       "    }\n",
       "</style>\n",
       "<table border=\"1\" class=\"dataframe\">\n",
       "  <thead>\n",
       "    <tr style=\"text-align: right;\">\n",
       "      <th></th>\n",
       "      <th>publish_date</th>\n",
       "      <th>headline_category</th>\n",
       "      <th>headline_text</th>\n",
       "    </tr>\n",
       "  </thead>\n",
       "  <tbody>\n",
       "    <tr>\n",
       "      <th>0</th>\n",
       "      <td>20010101</td>\n",
       "      <td>sports.wwe</td>\n",
       "      <td>win over cena satisfying but defeating underta...</td>\n",
       "    </tr>\n",
       "    <tr>\n",
       "      <th>1</th>\n",
       "      <td>20010102</td>\n",
       "      <td>unknown</td>\n",
       "      <td>Status quo will not be disturbed at Ayodhya; s...</td>\n",
       "    </tr>\n",
       "    <tr>\n",
       "      <th>2</th>\n",
       "      <td>20010102</td>\n",
       "      <td>unknown</td>\n",
       "      <td>Fissures in Hurriyat over Pak visit</td>\n",
       "    </tr>\n",
       "    <tr>\n",
       "      <th>3</th>\n",
       "      <td>20010102</td>\n",
       "      <td>unknown</td>\n",
       "      <td>America's unwanted heading for India?</td>\n",
       "    </tr>\n",
       "    <tr>\n",
       "      <th>4</th>\n",
       "      <td>20010102</td>\n",
       "      <td>unknown</td>\n",
       "      <td>For bigwigs; it is destination Goa</td>\n",
       "    </tr>\n",
       "    <tr>\n",
       "      <th>5</th>\n",
       "      <td>20010102</td>\n",
       "      <td>unknown</td>\n",
       "      <td>Extra buses to clear tourist traffic</td>\n",
       "    </tr>\n",
       "    <tr>\n",
       "      <th>6</th>\n",
       "      <td>20010102</td>\n",
       "      <td>unknown</td>\n",
       "      <td>Dilute the power of transfers; says Riberio</td>\n",
       "    </tr>\n",
       "    <tr>\n",
       "      <th>7</th>\n",
       "      <td>20010102</td>\n",
       "      <td>unknown</td>\n",
       "      <td>Focus shifts to teaching of Hindi</td>\n",
       "    </tr>\n",
       "    <tr>\n",
       "      <th>8</th>\n",
       "      <td>20010102</td>\n",
       "      <td>unknown</td>\n",
       "      <td>IT will become compulsory in schools</td>\n",
       "    </tr>\n",
       "    <tr>\n",
       "      <th>9</th>\n",
       "      <td>20010102</td>\n",
       "      <td>unknown</td>\n",
       "      <td>Move to stop freedom fighters' pension flayed</td>\n",
       "    </tr>\n",
       "  </tbody>\n",
       "</table>\n",
       "</div>"
      ],
      "text/plain": [
       "   publish_date headline_category  \\\n",
       "0      20010101        sports.wwe   \n",
       "1      20010102           unknown   \n",
       "2      20010102           unknown   \n",
       "3      20010102           unknown   \n",
       "4      20010102           unknown   \n",
       "5      20010102           unknown   \n",
       "6      20010102           unknown   \n",
       "7      20010102           unknown   \n",
       "8      20010102           unknown   \n",
       "9      20010102           unknown   \n",
       "\n",
       "                                       headline_text  \n",
       "0  win over cena satisfying but defeating underta...  \n",
       "1  Status quo will not be disturbed at Ayodhya; s...  \n",
       "2                Fissures in Hurriyat over Pak visit  \n",
       "3              America's unwanted heading for India?  \n",
       "4                 For bigwigs; it is destination Goa  \n",
       "5               Extra buses to clear tourist traffic  \n",
       "6        Dilute the power of transfers; says Riberio  \n",
       "7                  Focus shifts to teaching of Hindi  \n",
       "8               IT will become compulsory in schools  \n",
       "9      Move to stop freedom fighters' pension flayed  "
      ]
     },
     "execution_count": 10,
     "metadata": {},
     "output_type": "execute_result"
    }
   ],
   "source": [
    "df1 = pd.read_csv('india-news-headlines.csv')\n",
    "df1.head(10)"
   ]
  },
  {
   "cell_type": "code",
   "execution_count": 11,
   "metadata": {
    "id": "MAnOgXFiBt8o",
    "outputId": "ce40f30e-580d-49de-f751-e584d92b5bd0"
   },
   "outputs": [
    {
     "data": {
      "text/html": [
       "<div>\n",
       "<style scoped>\n",
       "    .dataframe tbody tr th:only-of-type {\n",
       "        vertical-align: middle;\n",
       "    }\n",
       "\n",
       "    .dataframe tbody tr th {\n",
       "        vertical-align: top;\n",
       "    }\n",
       "\n",
       "    .dataframe thead th {\n",
       "        text-align: right;\n",
       "    }\n",
       "</style>\n",
       "<table border=\"1\" class=\"dataframe\">\n",
       "  <thead>\n",
       "    <tr style=\"text-align: right;\">\n",
       "      <th></th>\n",
       "      <th>publish_date</th>\n",
       "      <th>headline_category</th>\n",
       "      <th>headline_text</th>\n",
       "    </tr>\n",
       "  </thead>\n",
       "  <tbody>\n",
       "    <tr>\n",
       "      <th>3297162</th>\n",
       "      <td>20200630</td>\n",
       "      <td>city.kanpur</td>\n",
       "      <td>vehicle of up stf team bringing gangster vikas...</td>\n",
       "    </tr>\n",
       "    <tr>\n",
       "      <th>3297163</th>\n",
       "      <td>20200630</td>\n",
       "      <td>entertainment.hindi.bollywood</td>\n",
       "      <td>sushant singh rajputs demise fans trend cbifor...</td>\n",
       "    </tr>\n",
       "    <tr>\n",
       "      <th>3297164</th>\n",
       "      <td>20200630</td>\n",
       "      <td>entertainment.hindi.bollywood</td>\n",
       "      <td>amitabh bachchans grandson agastya nanda prepp...</td>\n",
       "    </tr>\n",
       "    <tr>\n",
       "      <th>3297165</th>\n",
       "      <td>20200630</td>\n",
       "      <td>home.education</td>\n",
       "      <td>icse isc result 2020 when where to check class...</td>\n",
       "    </tr>\n",
       "    <tr>\n",
       "      <th>3297166</th>\n",
       "      <td>20200630</td>\n",
       "      <td>city.lucknow</td>\n",
       "      <td>up govt imposes weekend restrictions from tonight</td>\n",
       "    </tr>\n",
       "    <tr>\n",
       "      <th>3297167</th>\n",
       "      <td>20200630</td>\n",
       "      <td>gadgets-news</td>\n",
       "      <td>why tiktok removed 1 65 crore videos in india</td>\n",
       "    </tr>\n",
       "    <tr>\n",
       "      <th>3297168</th>\n",
       "      <td>20200630</td>\n",
       "      <td>entertainment.hindi.bollywood</td>\n",
       "      <td>apurva asrani calls alia bhatts mother soni ra...</td>\n",
       "    </tr>\n",
       "    <tr>\n",
       "      <th>3297169</th>\n",
       "      <td>20200630</td>\n",
       "      <td>entertainment.hindi.bollywood</td>\n",
       "      <td>kangana ranaut gets a doll version of herself ...</td>\n",
       "    </tr>\n",
       "    <tr>\n",
       "      <th>3297170</th>\n",
       "      <td>20200630</td>\n",
       "      <td>entertainment.hindi.bollywood</td>\n",
       "      <td>meezaan jaffrey reminisces his childhood days ...</td>\n",
       "    </tr>\n",
       "    <tr>\n",
       "      <th>3297171</th>\n",
       "      <td>20200630</td>\n",
       "      <td>entertainment.telugu.movies.news</td>\n",
       "      <td>prabhas20 titled as radhe shyam prabhas and po...</td>\n",
       "    </tr>\n",
       "  </tbody>\n",
       "</table>\n",
       "</div>"
      ],
      "text/plain": [
       "         publish_date                 headline_category  \\\n",
       "3297162      20200630                       city.kanpur   \n",
       "3297163      20200630     entertainment.hindi.bollywood   \n",
       "3297164      20200630     entertainment.hindi.bollywood   \n",
       "3297165      20200630                    home.education   \n",
       "3297166      20200630                      city.lucknow   \n",
       "3297167      20200630                      gadgets-news   \n",
       "3297168      20200630     entertainment.hindi.bollywood   \n",
       "3297169      20200630     entertainment.hindi.bollywood   \n",
       "3297170      20200630     entertainment.hindi.bollywood   \n",
       "3297171      20200630  entertainment.telugu.movies.news   \n",
       "\n",
       "                                             headline_text  \n",
       "3297162  vehicle of up stf team bringing gangster vikas...  \n",
       "3297163  sushant singh rajputs demise fans trend cbifor...  \n",
       "3297164  amitabh bachchans grandson agastya nanda prepp...  \n",
       "3297165  icse isc result 2020 when where to check class...  \n",
       "3297166  up govt imposes weekend restrictions from tonight  \n",
       "3297167      why tiktok removed 1 65 crore videos in india  \n",
       "3297168  apurva asrani calls alia bhatts mother soni ra...  \n",
       "3297169  kangana ranaut gets a doll version of herself ...  \n",
       "3297170  meezaan jaffrey reminisces his childhood days ...  \n",
       "3297171  prabhas20 titled as radhe shyam prabhas and po...  "
      ]
     },
     "execution_count": 11,
     "metadata": {},
     "output_type": "execute_result"
    }
   ],
   "source": [
    "df1.tail(10)"
   ]
  },
  {
   "cell_type": "code",
   "execution_count": 12,
   "metadata": {
    "id": "sSh6E44OBt8q",
    "outputId": "d8c85d3d-27fd-4cd4-dc4e-8f263c3e01ab"
   },
   "outputs": [
    {
     "name": "stdout",
     "output_type": "stream",
     "text": [
      "<class 'pandas.core.frame.DataFrame'>\n",
      "RangeIndex: 3297172 entries, 0 to 3297171\n",
      "Data columns (total 3 columns):\n",
      " #   Column             Dtype \n",
      "---  ------             ----- \n",
      " 0   publish_date       int64 \n",
      " 1   headline_category  object\n",
      " 2   headline_text      object\n",
      "dtypes: int64(1), object(2)\n",
      "memory usage: 75.5+ MB\n"
     ]
    }
   ],
   "source": [
    "df1.info()"
   ]
  },
  {
   "cell_type": "code",
   "execution_count": 13,
   "metadata": {
    "id": "34JzmdaQBt8t",
    "outputId": "c37ce94c-55b9-4144-d8b5-58e21bd89b41"
   },
   "outputs": [
    {
     "data": {
      "text/html": [
       "<div>\n",
       "<style scoped>\n",
       "    .dataframe tbody tr th:only-of-type {\n",
       "        vertical-align: middle;\n",
       "    }\n",
       "\n",
       "    .dataframe tbody tr th {\n",
       "        vertical-align: top;\n",
       "    }\n",
       "\n",
       "    .dataframe thead th {\n",
       "        text-align: right;\n",
       "    }\n",
       "</style>\n",
       "<table border=\"1\" class=\"dataframe\">\n",
       "  <thead>\n",
       "    <tr style=\"text-align: right;\">\n",
       "      <th></th>\n",
       "      <th>publish_date</th>\n",
       "    </tr>\n",
       "  </thead>\n",
       "  <tbody>\n",
       "    <tr>\n",
       "      <th>count</th>\n",
       "      <td>3.297172e+06</td>\n",
       "    </tr>\n",
       "    <tr>\n",
       "      <th>mean</th>\n",
       "      <td>2.012470e+07</td>\n",
       "    </tr>\n",
       "    <tr>\n",
       "      <th>std</th>\n",
       "      <td>4.896213e+04</td>\n",
       "    </tr>\n",
       "    <tr>\n",
       "      <th>min</th>\n",
       "      <td>2.001010e+07</td>\n",
       "    </tr>\n",
       "    <tr>\n",
       "      <th>25%</th>\n",
       "      <td>2.009101e+07</td>\n",
       "    </tr>\n",
       "    <tr>\n",
       "      <th>50%</th>\n",
       "      <td>2.013071e+07</td>\n",
       "    </tr>\n",
       "    <tr>\n",
       "      <th>75%</th>\n",
       "      <td>2.016110e+07</td>\n",
       "    </tr>\n",
       "    <tr>\n",
       "      <th>max</th>\n",
       "      <td>2.020063e+07</td>\n",
       "    </tr>\n",
       "  </tbody>\n",
       "</table>\n",
       "</div>"
      ],
      "text/plain": [
       "       publish_date\n",
       "count  3.297172e+06\n",
       "mean   2.012470e+07\n",
       "std    4.896213e+04\n",
       "min    2.001010e+07\n",
       "25%    2.009101e+07\n",
       "50%    2.013071e+07\n",
       "75%    2.016110e+07\n",
       "max    2.020063e+07"
      ]
     },
     "execution_count": 13,
     "metadata": {},
     "output_type": "execute_result"
    }
   ],
   "source": [
    "df1.describe()"
   ]
  },
  {
   "cell_type": "code",
   "execution_count": 14,
   "metadata": {
    "id": "PSf90qNHBt8v",
    "outputId": "18cc5cfd-bd60-4ee6-b5a8-4f94e44ff3ad"
   },
   "outputs": [
    {
     "data": {
      "text/plain": [
       "publish_date                                                  20200630\n",
       "headline_category                                          young-turks\n",
       "headline_text        ~!The 7 Plexus Knots story in a Galaxy called ...\n",
       "dtype: object"
      ]
     },
     "execution_count": 14,
     "metadata": {},
     "output_type": "execute_result"
    }
   ],
   "source": [
    "df1.max()"
   ]
  },
  {
   "cell_type": "code",
   "execution_count": 15,
   "metadata": {
    "id": "v89lT9i5Bt8x",
    "outputId": "ad345bac-51c4-428a-a029-d6e20fa8e64a"
   },
   "outputs": [
    {
     "data": {
      "text/plain": [
       "publish_date                                20010101\n",
       "headline_category                   2008-in-pictures\n",
       "headline_text         15cr funds for two auditoriums\n",
       "dtype: object"
      ]
     },
     "execution_count": 15,
     "metadata": {},
     "output_type": "execute_result"
    }
   ],
   "source": [
    "df1.min()"
   ]
  },
  {
   "cell_type": "code",
   "execution_count": 16,
   "metadata": {
    "id": "C4BDu98tBt8y",
    "outputId": "e4466ef3-03f2-4f02-d9f3-0c45d64228a4"
   },
   "outputs": [
    {
     "data": {
      "text/plain": [
       "array(['sports.wwe', 'unknown', 'entertainment.hindi.bollywood', ...,\n",
       "       'elections.assembly-elections.delhi-assembly-elections',\n",
       "       'elections.assembly-elections.delhi', 'life-style.coronavirus'],\n",
       "      dtype=object)"
      ]
     },
     "execution_count": 16,
     "metadata": {},
     "output_type": "execute_result"
    }
   ],
   "source": [
    "df1['headline_category'].unique()"
   ]
  },
  {
   "cell_type": "code",
   "execution_count": 17,
   "metadata": {
    "id": "44ILfy_LBt80",
    "outputId": "3c2c780f-9799-4907-b86f-231fb2db530d"
   },
   "outputs": [
    {
     "data": {
      "text/plain": [
       "publish_date         False\n",
       "headline_category    False\n",
       "headline_text        False\n",
       "dtype: bool"
      ]
     },
     "execution_count": 17,
     "metadata": {},
     "output_type": "execute_result"
    }
   ],
   "source": [
    "#In case of null values\n",
    "df1.isna().any()"
   ]
  },
  {
   "cell_type": "code",
   "execution_count": 18,
   "metadata": {
    "id": "HoirggQpBt82",
    "outputId": "a8c9fc0d-cf2c-48a3-f0e1-6873fe461a9b"
   },
   "outputs": [
    {
     "data": {
      "text/html": [
       "<div>\n",
       "<style scoped>\n",
       "    .dataframe tbody tr th:only-of-type {\n",
       "        vertical-align: middle;\n",
       "    }\n",
       "\n",
       "    .dataframe tbody tr th {\n",
       "        vertical-align: top;\n",
       "    }\n",
       "\n",
       "    .dataframe thead th {\n",
       "        text-align: right;\n",
       "    }\n",
       "</style>\n",
       "<table border=\"1\" class=\"dataframe\">\n",
       "  <thead>\n",
       "    <tr style=\"text-align: right;\">\n",
       "      <th></th>\n",
       "      <th>publish_date</th>\n",
       "    </tr>\n",
       "  </thead>\n",
       "  <tbody>\n",
       "    <tr>\n",
       "      <th>publish_date</th>\n",
       "      <td>1.0</td>\n",
       "    </tr>\n",
       "  </tbody>\n",
       "</table>\n",
       "</div>"
      ],
      "text/plain": [
       "              publish_date\n",
       "publish_date           1.0"
      ]
     },
     "execution_count": 18,
     "metadata": {},
     "output_type": "execute_result"
    }
   ],
   "source": [
    "df1.corr()"
   ]
  },
  {
   "cell_type": "code",
   "execution_count": 19,
   "metadata": {
    "id": "N0Hm3F1YBt84",
    "outputId": "587c5b53-dc9c-41bb-beba-28fe22fffc06"
   },
   "outputs": [
    {
     "data": {
      "image/png": "[encoded data removed]",
      "text/plain": [
       "<Figure size 180x180 with 2 Axes>"
      ]
     },
     "metadata": {},
     "output_type": "display_data"
    }
   ],
   "source": [
    "sns.set_palette('viridis')\n",
    "sns.pairplot(df1)\n",
    "plt.show()"
   ]
  },
  {
   "cell_type": "code",
   "execution_count": 20,
   "metadata": {
    "id": "Jo__sdY6Bt86",
    "outputId": "87523f9c-70d7-4ce8-f539-181fbbe4bd82"
   },
   "outputs": [
    {
     "data": {
      "text/plain": [
       "Sunny Leone HOT photos                                          98\n",
       "Watch top news in one-minute                                    90\n",
       "Official Site                                                   89\n",
       "Football: Italian Serie A table                                 88\n",
       "Football: Spanish La Liga table                                 86\n",
       "                                                                ..\n",
       "Gurugram gets 2 manual monitors for better air quality study     1\n",
       "Are you religious? So are these Tolly celebs!                    1\n",
       "Navy won't let us investigate: Cops                              1\n",
       "Union home secretary Anil Goswami visits Kokrajhar               1\n",
       "GRP to verify details of auto; taxi drivers                      1\n",
       "Name: headline_text, Length: 3082589, dtype: int64"
      ]
     },
     "execution_count": 20,
     "metadata": {},
     "output_type": "execute_result"
    }
   ],
   "source": [
    "df1['headline_text'].value_counts()"
   ]
  },
  {
   "cell_type": "code",
   "execution_count": 21,
   "metadata": {
    "id": "UrgBQgnrBt88",
    "outputId": "52a20412-31d9-4ba7-8ead-16976dbda90d"
   },
   "outputs": [
    {
     "data": {
      "text/plain": [
       "india                      285619\n",
       "unknown                    207732\n",
       "city.mumbai                132649\n",
       "city.delhi                 124658\n",
       "business.india-business    115246\n",
       "                            ...  \n",
       "actresses                       7\n",
       "delhi-ncr                       7\n",
       "did-you-know                    6\n",
       "sports.headline6                3\n",
       "party-manifestos                2\n",
       "Name: headline_category, Length: 1016, dtype: int64"
      ]
     },
     "execution_count": 21,
     "metadata": {},
     "output_type": "execute_result"
    }
   ],
   "source": [
    "df1['headline_category'].value_counts()"
   ]
  },
  {
   "cell_type": "code",
   "execution_count": 22,
   "metadata": {
    "id": "MPnnvGmdBt8-",
    "outputId": "257bb436-7c14-4f5d-8e9e-b3e20330369f"
   },
   "outputs": [
    {
     "data": {
      "image/png": "[encoded data removed]",
      "text/plain": [
       "<Figure size 576x504 with 1 Axes>"
      ]
     },
     "metadata": {},
     "output_type": "display_data"
    }
   ],
   "source": [
    "df1['headline_text'].str.len().hist()\n",
    "plt.show()"
   ]
  },
  {
   "cell_type": "code",
   "execution_count": 23,
   "metadata": {
    "id": "rf8k3AcfBt9B",
    "outputId": "f86bc464-0c49-4b8b-caeb-38066787e544"
   },
   "outputs": [
    {
     "data": {
      "image/png": "[encoded data removed]",
      "text/plain": [
       "<Figure size 576x504 with 1 Axes>"
      ]
     },
     "metadata": {},
     "output_type": "display_data"
    }
   ],
   "source": [
    "df1['headline_text'].str.split().\\\n",
    "   apply(lambda x : [len(i) for i in x]). \\\n",
    "   map(lambda x: np.mean(x)).hist()\n",
    "plt.show()"
   ]
  },
  {
   "cell_type": "code",
   "execution_count": 24,
   "metadata": {
    "id": "IUfDaATTBt9E",
    "outputId": "4d79ffd9-21d8-40cc-9b36-3951b8ee505e"
   },
   "outputs": [
    {
     "name": "stderr",
     "output_type": "stream",
     "text": [
      "[nltk_data] Downloading package stopwords to\n",
      "[nltk_data]     C:\\Users\\cs\\AppData\\Roaming\\nltk_data...\n",
      "[nltk_data]   Unzipping corpora\\stopwords.zip.\n"
     ]
    }
   ],
   "source": [
    "import nltk\n",
    "from nltk.corpus import stopwords\n",
    "nltk.download('stopwords')\n",
    "stop=set(stopwords.words('english'))"
   ]
  },
  {
   "cell_type": "markdown",
   "metadata": {
    "id": "wx5EeKzmBt9H"
   },
   "source": [
    "Now, we’ll create the corpus."
   ]
  },
  {
   "cell_type": "code",
   "execution_count": 25,
   "metadata": {
    "id": "Sl8NL0GCBt9H"
   },
   "outputs": [],
   "source": [
    "corpus=[]\n",
    "new= df1['headline_text'].str.split()\n",
    "new=new.values.tolist()\n",
    "corpus=[word for i in new for word in i]\n",
    "\n",
    "from collections import defaultdict\n",
    "dic=defaultdict(int)\n",
    "for word in corpus:\n",
    "    if word in stop:\n",
    "        dic[word]+=1"
   ]
  },
  {
   "cell_type": "code",
   "execution_count": 26,
   "metadata": {
    "id": "RD9A2Q-lBt9J",
    "outputId": "003bf32f-85f6-4592-e7cf-e5f4dbe8d7d6"
   },
   "outputs": [
    {
     "data": {
      "image/png": "[encoded data removed]",
      "text/plain": [
       "<Figure size 576x504 with 1 Axes>"
      ]
     },
     "metadata": {},
     "output_type": "display_data"
    }
   ],
   "source": [
    "from collections import Counter\n",
    "counter=Counter(corpus)\n",
    "most=counter.most_common()\n",
    "x, y= [], []\n",
    "for word,count in most[:40]:\n",
    "    if (word not in stop):\n",
    "        x.append(word)\n",
    "        y.append(count)\n",
    "        \n",
    "sns.barplot(x=y,y=x)\n",
    "plt.show()"
   ]
  },
  {
   "cell_type": "code",
   "execution_count": 27,
   "metadata": {
    "id": "ywrJJF85Bt9L",
    "outputId": "f11eff32-278f-4ec3-b4cc-15c378b9c2a2"
   },
   "outputs": [
    {
     "data": {
      "text/plain": [
       "[('I', 'went'),\n",
       " ('went', 'to'),\n",
       " ('to', 'the'),\n",
       " ('the', 'river'),\n",
       " ('river', 'bank')]"
      ]
     },
     "execution_count": 27,
     "metadata": {},
     "output_type": "execute_result"
    }
   ],
   "source": [
    "from nltk.util import ngrams\n",
    "list(ngrams(['I' ,'went','to','the','river','bank'],2))"
   ]
  },
  {
   "cell_type": "code",
   "execution_count": 28,
   "metadata": {
    "id": "-fZk_bRHBt9N",
    "outputId": "2cab3e76-a9ab-417f-b204-e568efff0f24"
   },
   "outputs": [
    {
     "data": {
      "image/png": "[encoded data removed]",
      "text/plain": [
       "<Figure size 576x504 with 1 Axes>"
      ]
     },
     "metadata": {},
     "output_type": "display_data"
    }
   ],
   "source": [
    "from sklearn.feature_extraction.text import CountVectorizer\n",
    "def get_top_ngram(corpus, n=None):\n",
    "    vec = CountVectorizer(ngram_range=(n, n)).fit(corpus)\n",
    "    bag_of_words = vec.transform(corpus)\n",
    "    sum_words = bag_of_words.sum(axis=0) \n",
    "    words_freq = [(word, sum_words[0, idx]) \n",
    "                  for word, idx in vec.vocabulary_.items()]\n",
    "    words_freq =sorted(words_freq, key = lambda x: x[1], reverse=True)\n",
    "    return words_freq[:10]\n",
    "top_n_bigrams=get_top_ngram(df1['headline_text'],2)[:10]\n",
    "x,y=map(list,zip(*top_n_bigrams))\n",
    "sns.barplot(x=y,y=x)\n",
    "plt.show()"
   ]
  },
  {
   "cell_type": "code",
   "execution_count": 29,
   "metadata": {
    "id": "fQi4Tu1ZBt9Q",
    "outputId": "a3348288-b2db-4f19-95d6-b3b569eb28f5"
   },
   "outputs": [
    {
     "data": {
      "text/plain": [
       "Sentiment(polarity=-0.2, subjectivity=0.0)"
      ]
     },
     "execution_count": 29,
     "metadata": {},
     "output_type": "execute_result"
    }
   ],
   "source": [
    "from textblob import TextBlob\n",
    "TextBlob('100 people killed in Iraq').sentiment"
   ]
  },
  {
   "cell_type": "code",
   "execution_count": 30,
   "metadata": {
    "id": "kHBdYqx1Bt9R",
    "outputId": "bb4c5c18-240a-46e8-8ebf-ba7fb3d15317"
   },
   "outputs": [
    {
     "data": {
      "image/png": "[encoded data removed]",
      "text/plain": [
       "<Figure size 576x504 with 1 Axes>"
      ]
     },
     "metadata": {},
     "output_type": "display_data"
    }
   ],
   "source": [
    "def polarity(text):\n",
    "    return TextBlob(text).sentiment.polarity\n",
    "df1['polarity_score']=df1['headline_text'].\\\n",
    "   apply(lambda x : polarity(x))\n",
    "df1['polarity_score'].hist()\n",
    "plt.show()"
   ]
  },
  {
   "cell_type": "code",
   "execution_count": 31,
   "metadata": {
    "id": "6nurURfcBt9T",
    "outputId": "7777347e-4a02-4fe7-884f-fa9ce35d514c"
   },
   "outputs": [
    {
     "data": {
      "image/png": "[encoded data removed]",
      "text/plain": [
       "<Figure size 576x504 with 1 Axes>"
      ]
     },
     "metadata": {},
     "output_type": "display_data"
    }
   ],
   "source": [
    "def sentiment(x):\n",
    "    if x<0:\n",
    "        return 'neg'\n",
    "    elif x==0:\n",
    "        return 'neu'\n",
    "    else:\n",
    "        return 'pos'\n",
    "    \n",
    "df1['polarity']=df1['polarity_score'].\\\n",
    "   map(lambda x: sentiment(x))\n",
    "plt.bar(df1.polarity.value_counts().index,\n",
    "        df1.polarity.value_counts())\n",
    "plt.show()"
   ]
  },
  {
   "cell_type": "code",
   "execution_count": 32,
   "metadata": {
    "id": "H5-rPmCgBt9V",
    "outputId": "1a37c5ae-a64d-4bf0-f60a-78f5083acc3e"
   },
   "outputs": [
    {
     "data": {
      "text/plain": [
       "0     win over cena satisfying but defeating underta...\n",
       "5                  Extra buses to clear tourist traffic\n",
       "13          Will Qureshi's return really help the govt?\n",
       "31                 Extra buses to clear tourist traffic\n",
       "39          Will Qureshi's return really help the govt?\n",
       "Name: headline_text, dtype: object"
      ]
     },
     "execution_count": 32,
     "metadata": {},
     "output_type": "execute_result"
    }
   ],
   "source": [
    "df1[df1['polarity']=='pos']['headline_text'].head()"
   ]
  },
  {
   "cell_type": "code",
   "execution_count": 33,
   "metadata": {
    "id": "wTYvcC8QBt9X",
    "outputId": "9b2a2ce4-d43a-4a83-8ea0-cacd21fc1bf4"
   },
   "outputs": [
    {
     "data": {
      "text/plain": [
       "66         Destroying myths and doubts on sexuality\n",
       "87         Powerless north India gropes in the dark\n",
       "105                        10-year-old girl missing\n",
       "132              Net lottery: A winner or a sucker?\n",
       "143    Mental illness can pass from parent to child\n",
       "Name: headline_text, dtype: object"
      ]
     },
     "execution_count": 33,
     "metadata": {},
     "output_type": "execute_result"
    }
   ],
   "source": [
    "df1[df1['polarity']=='neg']['headline_text'].head()"
   ]
  }
 ],
 "metadata": {
  "colab": {
   "include_colab_link": true,
   "name": "Copy of Task- 04 Stock Market & News Headline Prediction using Numerical and Textual Analysis.ipynb",
   "provenance": []
  },
  "kernelspec": {
   "display_name": "Python 3",
   "language": "python",
   "name": "python3"
  },
  "language_info": {
   "codemirror_mode": {
    "name": "ipython",
    "version": 3
   },
   "file_extension": ".py",
   "mimetype": "text/x-python",
   "name": "python",
   "nbconvert_exporter": "python",
   "pygments_lexer": "ipython3",
   "version": "3.7.3"
  }
 },
 "nbformat": 4,
 "nbformat_minor": 1
}
